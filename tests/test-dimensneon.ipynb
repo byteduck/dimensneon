{
 "cells": [
  {
   "cell_type": "markdown",
   "source": [
    "# dimenSNEon Tests"
   ],
   "metadata": {
    "collapsed": false
   }
  },
  {
   "cell_type": "code",
   "execution_count": null,
   "outputs": [],
   "source": [
    "# This notebook runs dimenSNEon's t-SNE and scanpy's builtin t-SNE simulations on sample data from 10x genomics.\n",
    "# You can tweak parameters below to alter the test.\n",
    "\n",
    "# Truncate the data to this many datapoints in the interest of speed.\n",
    "NUM_DATAPOINTS=1000\n",
    "\n",
    "# How many iterations of dimenSNEon to run.\n",
    "NUM_ITERATIONS=1000\n",
    "\n",
    "# Perplexity to target.\n",
    "PERPLEXITY=30\n",
    "\n",
    "# The directory (relative to the notebook) where the test data is.\n",
    "DATADIR = \"data/filtered_feature_bc_matrix\""
   ],
   "metadata": {
    "collapsed": false
   }
  },
  {
   "cell_type": "code",
   "execution_count": null,
   "outputs": [],
   "source": [
    "# First, ensure test data is downloaded\n",
    "import os, urllib.request, tarfile\n",
    "\n",
    "DATA_URL = \"https://cf.10xgenomics.com/samples/cell-exp/3.0.0/pbmc_10k_v3/pbmc_10k_v3_filtered_feature_bc_matrix.tar.gz\"\n",
    "FILENAME = \"data/data.tar.gz\"\n",
    "\n",
    "if not os.path.isdir(\"data\"):\n",
    "    os.mkdir(\"data\")\n",
    "if not os.path.isdir(\"data/filtered_feature_bc_matrix\"):\n",
    "    print(\"Hold on, downloading sample data from 10x genomics...\")\n",
    "\n",
    "    # We have to fake the user agent to make 10x happy so we don't get a 403...\n",
    "    request = urllib.request.Request(\n",
    "        DATA_URL,\n",
    "        data=None,\n",
    "        headers={\n",
    "            'User-Agent': 'Mozilla/5.0 (Macintosh; Intel Mac OS X 10_9_3) AppleWebKit/537.36 (KHTML, like Gecko) Chrome/35.0.1916.47 Safari/537.36'\n",
    "        }\n",
    "    )\n",
    "    response = urllib.request.urlopen(request)\n",
    "    with open(FILENAME, \"wb\") as file:\n",
    "        file.write(response.read())\n",
    "        file.close()\n",
    "\n",
    "    print(\"Downloaded! Uncompressing...\")\n",
    "    with tarfile.open(FILENAME, \"r:gz\") as tar:\n",
    "        tar.extractall(\"data\")\n",
    "        tar.close()\n",
    "\n",
    "    print(\"Done!\")"
   ],
   "metadata": {
    "collapsed": false
   }
  },
  {
   "cell_type": "code",
   "execution_count": null,
   "outputs": [],
   "source": [
    "# Import libraries and load data\n",
    "\n",
    "# Ensure dimensneon is in the path (so we don't need to install it to run this)\n",
    "import sys\n",
    "module_path = os.path.abspath(os.path.join('..'))\n",
    "if module_path not in sys.path:\n",
    "    sys.path.append(module_path)\n",
    "\n",
    "import scanpy as sc\n",
    "import dimensneon.tsne as dtsne\n",
    "\n",
    "data = sc.read_10x_mtx(DATADIR, cache=True)\n",
    "print(\"Loaded data!\")"
   ],
   "metadata": {
    "collapsed": false
   }
  },
  {
   "cell_type": "code",
   "execution_count": null,
   "outputs": [],
   "source": [
    "# Normalize counts and get highly variable genes\n",
    "sc.pp.normalize_per_cell(data, counts_per_cell_after=1e4)\n",
    "sc.pp.log1p(data)\n",
    "sc.pp.highly_variable_genes(data, n_top_genes=100)"
   ],
   "metadata": {
    "collapsed": false
   }
  },
  {
   "cell_type": "code",
   "execution_count": null,
   "outputs": [],
   "source": [
    "# Arbitrarily limit to NUM_DATAPOINTS datapoints in the interest of speed\n",
    "data_var = data[:, data.var['highly_variable']][0:NUM_DATAPOINTS, 0:NUM_DATAPOINTS]\n",
    "sc.pp.neighbors(data_var) # computes neighborhood graphs. Needed to run clustering.\n",
    "sc.tl.leiden(data_var) # clusters cells based on expression profiles. This is needed to color cells by cluster."
   ],
   "metadata": {
    "collapsed": false
   }
  },
  {
   "cell_type": "code",
   "execution_count": null,
   "outputs": [],
   "source": [
    "# Create two copies of the data. One for runing with builtin, one for running with dimensneon.\n",
    "\n",
    "data_builtin = data_var.copy()\n",
    "data_dsne = data_var"
   ],
   "metadata": {
    "collapsed": false
   }
  },
  {
   "cell_type": "code",
   "execution_count": null,
   "outputs": [],
   "source": [
    "# Run the builtin scanpy tSNE and graph it\n",
    "sc.tl.tsne(data_builtin, perplexity=PERPLEXITY)\n",
    "sc.pl.tsne(data_builtin, color=['leiden'], legend_loc='on data', legend_fontsize=10, alpha=0.8, size=20)"
   ],
   "metadata": {
    "collapsed": false
   }
  },
  {
   "cell_type": "code",
   "execution_count": null,
   "outputs": [],
   "source": [
    "# Uncomment these two lines to reload dimenSNEon when making changes\n",
    "# import importlib\n",
    "# importlib.reload(dtsne)\n",
    "\n",
    "# Run dimenSNEon and graph it\n",
    "dtsne.tsne(data_dsne, iterations=NUM_ITERATIONS, perplexity=PERPLEXITY)\n",
    "sc.pl.tsne(data_dsne, color=['leiden'], legend_loc='on data', legend_fontsize=10, alpha=0.8, size=20)"
   ],
   "metadata": {
    "collapsed": false
   }
  }
 ],
 "metadata": {
  "kernelspec": {
   "display_name": "Python 3",
   "language": "python",
   "name": "python3"
  },
  "language_info": {
   "codemirror_mode": {
    "name": "ipython",
    "version": 2
   },
   "file_extension": ".py",
   "mimetype": "text/x-python",
   "name": "python",
   "nbconvert_exporter": "python",
   "pygments_lexer": "ipython2",
   "version": "2.7.6"
  }
 },
 "nbformat": 4,
 "nbformat_minor": 0
}
