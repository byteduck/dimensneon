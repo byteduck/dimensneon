{
 "cells": [
  {
   "cell_type": "markdown",
   "source": [
    "# dimenSNEon Tests\n",
    "## Read me!\n",
    "\n",
    "The following notebook can be used to test dimenSNEon on sample scRNA-seq data.\n",
    "\n",
    "**Test data is not included in the repository (as it is too large), so the notebook will automatically download it. This may take a while.**\n",
    "\n",
    "You can configure some options below:"
   ],
   "metadata": {
    "collapsed": false
   }
  },
  {
   "cell_type": "code",
   "execution_count": null,
   "outputs": [],
   "source": [
    "# This notebook runs dimenSNEon's t-SNE and scanpy's builtin t-SNE simulations on sample data from 10x genomics.\n",
    "# You can tweak parameters below to alter the test.\n",
    "\n",
    "# Truncate the data to this many datapoints in the interest of speed.\n",
    "NUM_DATAPOINTS=1000\n",
    "\n",
    "# How many iterations of dimenSNEon to run.\n",
    "NUM_ITERATIONS=1000\n",
    "\n",
    "# Perplexity to target.\n",
    "PERPLEXITY=30\n",
    "\n",
    "# Whether to generate an animation of dimenSNEon's t-SNE process.\n",
    "MAKE_ANIMATION=True\n",
    "\n",
    "# The example dataset to download. There are two valid values:\n",
    "# \"10xgen\" - The 10x genomics example scRNA-seq dataset\n",
    "# \"pancreatic\" - The pancreatic cell sample from lab 6. (Specifically, the M3 E7 post-implantation cells)\n",
    "DATASET = \"pancreatic\""
   ],
   "metadata": {
    "collapsed": false
   }
  },
  {
   "cell_type": "markdown",
   "source": [
    "## Downloading Test Data\n",
    "The following cell downloads the data. **This may take a while.**"
   ],
   "metadata": {
    "collapsed": false
   }
  },
  {
   "cell_type": "code",
   "execution_count": null,
   "outputs": [],
   "source": [
    "# First, ensure test data is downloaded\n",
    "import os, urllib.request, tarfile, sys\n",
    "\n",
    "DATA_URL, FILENAME, DATADIR, EXTRACTDIR, DATAPREFIX = (\"\",\"\",\"\",\"\",\"\")\n",
    "\n",
    "if DATASET == \"10xgen\":\n",
    "    DATA_URL = \"https://cf.10xgenomics.com/samples/cell-exp/3.0.0/pbmc_10k_v3/pbmc_10k_v3_filtered_feature_bc_matrix.tar.gz\"\n",
    "    FILENAME = \"data/data.tar.gz\"\n",
    "    DATADIR = \"data/filtered_feature_bc_matrix\"\n",
    "    EXTRACTDIR = \"data\"\n",
    "    DATAPREFIX = None\n",
    "elif DATASET == \"pancreatic\":\n",
    "    DATA_URL = \"https://www.ncbi.nlm.nih.gov/geo/download/?acc=GSE167880&format=file\"\n",
    "    FILENAME = \"data/data.tar\"\n",
    "    DATADIR = \"data/pancreatic\"\n",
    "    EXTRACTDIR = \"data/pancreatic\"\n",
    "    DATAPREFIX = \"GSM5114474_M3_E7_\"\n",
    "\n",
    "else:\n",
    "    print(\"Error - DATASET must be one of '10xgen' or 'pancreatic'\", file=sys.stderr)\n",
    "\n",
    "if not os.path.isdir(DATADIR) or not os.path.isdir(EXTRACTDIR):\n",
    "    os.makedirs(EXTRACTDIR)\n",
    "    print(f\"Hold on, downloading sample dataset '{DATASET}'...\")\n",
    "\n",
    "    # We have to fake the user agent to make 10x happy so we don't get a 403...\n",
    "    request = urllib.request.Request(\n",
    "        DATA_URL,\n",
    "        data=None,\n",
    "        headers={\n",
    "            'User-Agent': 'Mozilla/5.0 (Macintosh; Intel Mac OS X 10_9_3) AppleWebKit/537.36 (KHTML, like Gecko) Chrome/35.0.1916.47 Safari/537.36'\n",
    "        }\n",
    "    )\n",
    "    response = urllib.request.urlopen(request)\n",
    "    with open(FILENAME, \"wb\") as file:\n",
    "        file.write(response.read())\n",
    "        file.close()\n",
    "\n",
    "    print(\"Downloaded! Uncompressing...\")\n",
    "    mode = \"r:gz\" if FILENAME.endswith(\"gz\") else \"r\"\n",
    "    with tarfile.open(FILENAME, mode) as tar:\n",
    "        tar.extractall(EXTRACTDIR)\n",
    "        tar.close()\n",
    "\n",
    "    # If we're using the lab 6 pancreatic cell data, we also need to download the features separately\n",
    "    if DATASET == \"pancreatic\":\n",
    "        print(\"Downloading features matrix...\")\n",
    "        urllib.request.urlretrieve(\"https://www.ncbi.nlm.nih.gov/geo/download/?acc=GSE167880&format=file&file=GSE167880%5Ffeatures%2Etsv%2Egz\", f\"{DATADIR}/{DATAPREFIX}features.tsv.gz\")\n",
    "\n",
    "    print(\"Done!\")"
   ],
   "metadata": {
    "collapsed": false
   }
  },
  {
   "cell_type": "markdown",
   "source": [
    "## Loading Libraries and Data\n",
    "The following cell loads needed python libraries and loads the scRNA-seq data."
   ],
   "metadata": {
    "collapsed": false
   }
  },
  {
   "cell_type": "code",
   "execution_count": null,
   "outputs": [],
   "source": [
    "# Import libraries and load data\n",
    "\n",
    "# Ensure dimensneon is in the path (so we don't need to install it to run this)\n",
    "module_path = os.path.abspath(os.path.join('..'))\n",
    "if module_path not in sys.path:\n",
    "    sys.path.append(module_path)\n",
    "\n",
    "import scanpy as sc\n",
    "import dimensneon.tsne as dtsne\n",
    "import time\n",
    "\n",
    "data = sc.read_10x_mtx(DATADIR, cache=True, prefix=DATAPREFIX)\n",
    "print(\"Loaded data!\")"
   ],
   "metadata": {
    "collapsed": false
   }
  },
  {
   "cell_type": "markdown",
   "source": [
    "## Data Preprocessing and PCA\n",
    "In order to run t-SNE, we first need to normalize cell counts, convert them to log scale, and then find our highly variable genes.\n",
    "\n",
    "Then, we arbitrarily limit the number of datapoints to `NUM_DATAPOINTS` (in the interest of time).\n",
    "\n",
    "Finally, we create two copies of the data - one for use with scanpy's t-SNE implementation, and one for dimenSNEon's implementation."
   ],
   "metadata": {
    "collapsed": false
   }
  },
  {
   "cell_type": "code",
   "execution_count": null,
   "outputs": [],
   "source": [
    "# Normalize counts and get highly variable genes\n",
    "sc.pp.normalize_per_cell(data, counts_per_cell_after=1e4)\n",
    "sc.pp.log1p(data)\n",
    "sc.pp.highly_variable_genes(data, n_top_genes=100)\n",
    "\n",
    "# Arbitrarily limit to NUM_DATAPOINTS datapoints in the interest of speed\n",
    "data_var = data[:, data.var['highly_variable']][0:NUM_DATAPOINTS, 0:NUM_DATAPOINTS]\n",
    "sc.pp.neighbors(data_var) # computes neighborhood graphs. Needed to run clustering.\n",
    "sc.tl.leiden(data_var) # clusters cells based on expression profiles. This is needed to color cells by cluster.\n",
    "\n",
    "# Create two copies of the data. One for runing with builtin, one for running with dimensneon.\n",
    "data_builtin = data_var.copy()\n",
    "data_dsne = data_var"
   ],
   "metadata": {
    "collapsed": false
   }
  },
  {
   "cell_type": "markdown",
   "source": [
    "## Scanpy t-SNE\n",
    "\n",
    "The following cell runs and times the scanpy implementation of t-SNE."
   ],
   "metadata": {
    "collapsed": false
   }
  },
  {
   "cell_type": "code",
   "execution_count": null,
   "outputs": [],
   "source": [
    "# Run the builtin scanpy tSNE and time it\n",
    "scanpy_t0 = time.time()\n",
    "sc.tl.tsne(data_builtin, perplexity=PERPLEXITY)\n",
    "scanpy_t1 = time.time()\n",
    "\n",
    "# Graph it\n",
    "title = f\"Scanpy t-SNE ({'{:.2f}'.format(scanpy_t1 - scanpy_t0)}s)\"\n",
    "sc.pl.tsne(data_builtin, color=['leiden'], legend_loc='on data', legend_fontsize=10, alpha=0.8, size=20, title=title)"
   ],
   "metadata": {
    "collapsed": false
   }
  },
  {
   "cell_type": "markdown",
   "source": [
    "## dimenSNEon t-SNE\n",
    "\n",
    "The following cell runs and times the dimenSNEon implementation of t-SNE."
   ],
   "metadata": {
    "collapsed": false
   }
  },
  {
   "cell_type": "code",
   "execution_count": null,
   "outputs": [],
   "source": [
    "# Uncomment these two lines to reload dimenSNEon when making changes\n",
    "# import importlib\n",
    "# importlib.reload(dtsne)\n",
    "\n",
    "# Run dimenSNEon and time it\n",
    "dimensneon_t0 = time.time()\n",
    "dsne_result = dtsne.tsne(data_dsne, iterations=NUM_ITERATIONS, perplexity=PERPLEXITY, animate=MAKE_ANIMATION)\n",
    "dimensneon_t1 = time.time()\n",
    "\n",
    "# Graph it\n",
    "title = f\"dimenSNEon t-SNE ({'{:.2f}'.format(dimensneon_t1 - dimensneon_t0)}s)\"\n",
    "sc.pl.tsne(data_dsne, color=['leiden'], legend_loc='on data', legend_fontsize=10, alpha=0.8, size=20, title=title)"
   ],
   "metadata": {
    "collapsed": false
   }
  },
  {
   "cell_type": "markdown",
   "source": [
    "# Animation\n",
    "\n",
    "For my presentation, I included an animation of the t-SNE simulation. The following code will generate the frame images if `MAKE_ANIMATION` is `True`."
   ],
   "metadata": {
    "collapsed": false
   }
  },
  {
   "cell_type": "code",
   "execution_count": null,
   "outputs": [],
   "source": [
    "# If we wanted to make an animation of the t-SNE simulation, now we do so\n",
    "if MAKE_ANIMATION:\n",
    "    idx = 0\n",
    "    for frame in dsne_result:\n",
    "        data_dsne.obsm['X_tsne'] = frame\n",
    "        sc.pl.tsne(data_dsne, color=['leiden'], legend_loc='on data', legend_fontsize=10, alpha=0.8, size=20, save=f\"frame_{idx}.png\", title=f\"Iteration {idx * 10}\")\n",
    "        idx += 1"
   ],
   "metadata": {
    "collapsed": false
   }
  }
 ],
 "metadata": {
  "kernelspec": {
   "display_name": "Python 3",
   "language": "python",
   "name": "python3"
  },
  "language_info": {
   "codemirror_mode": {
    "name": "ipython",
    "version": 2
   },
   "file_extension": ".py",
   "mimetype": "text/x-python",
   "name": "python",
   "nbconvert_exporter": "python",
   "pygments_lexer": "ipython2",
   "version": "2.7.6"
  }
 },
 "nbformat": 4,
 "nbformat_minor": 0
}
